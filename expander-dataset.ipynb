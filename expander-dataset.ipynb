{
 "cells": [
  {
   "cell_type": "markdown",
   "metadata": {},
   "source": [
    "   **Assignment 2 - Regression (Expander_data.csv)**\n"
   ]
  },
  {
   "cell_type": "markdown",
   "metadata": {},
   "source": [
    "  **DATA PREPROCESSING**"
   ]
  },
  {
   "cell_type": "markdown",
   "metadata": {},
   "source": [
    "   **IMPORTING IMPORTANT LIBRARIES**"
   ]
  },
  {
   "cell_type": "code",
   "execution_count": 1,
   "metadata": {
    "_cell_guid": "b1076dfc-b9ad-4769-8c92-a6c4dae69d19",
    "_uuid": "8f2839f25d086af736a60e9eeb907d3b93b6e0e5"
   },
   "outputs": [
    {
     "name": "stdout",
     "output_type": "stream",
     "text": [
      "/kaggle/input/expander-data/Expander_data.csv\n"
     ]
    }
   ],
   "source": [
    "# This Python 3 environment comes with many helpful analytics libraries installed\n",
    "# It is defined by the kaggle/python docker image: https://github.com/kaggle/docker-python\n",
    "# For example, here's several helpful packages to load in \n",
    "\n",
    "import numpy as np # linear algebra\n",
    "import pandas as pd # data processing, CSV file I/O (e.g. pd.read_csv)\n",
    "import matplotlib.pyplot as plt\n",
    "import seaborn as sns\n",
    "\n",
    "# Input data files are available in the \"../input/\" directory.\n",
    "# For example, running this (by clicking run or pressing Shift+Enter) will list all files under the input directory\n",
    "\n",
    "import os\n",
    "for dirname, _, filenames in os.walk('/kaggle/input'):\n",
    "    for filename in filenames:\n",
    "        print(os.path.join(dirname, filename))\n",
    "\n",
    "# Any results you write to the current directory are saved as output."
   ]
  },
  {
   "cell_type": "markdown",
   "metadata": {},
   "source": [
    "**IMPORTING DATASET**"
   ]
  },
  {
   "cell_type": "code",
   "execution_count": 2,
   "metadata": {
    "_cell_guid": "79c7e3d0-c299-4dcb-8224-4455121ee9b0",
    "_uuid": "d629ff2d2480ee46fbb7e2d37f6b5fab8052498a"
   },
   "outputs": [],
   "source": [
    "data=pd.read_csv('/kaggle/input/expander-data/Expander_data.csv')"
   ]
  },
  {
   "cell_type": "markdown",
   "metadata": {},
   "source": [
    "**DESCRIBING DATASET**"
   ]
  },
  {
   "cell_type": "code",
   "execution_count": 3,
   "metadata": {},
   "outputs": [
    {
     "data": {
      "text/html": [
       "<div>\n",
       "<style scoped>\n",
       "    .dataframe tbody tr th:only-of-type {\n",
       "        vertical-align: middle;\n",
       "    }\n",
       "\n",
       "    .dataframe tbody tr th {\n",
       "        vertical-align: top;\n",
       "    }\n",
       "\n",
       "    .dataframe thead th {\n",
       "        text-align: right;\n",
       "    }\n",
       "</style>\n",
       "<table border=\"1\" class=\"dataframe\">\n",
       "  <thead>\n",
       "    <tr style=\"text-align: right;\">\n",
       "      <th></th>\n",
       "      <th>Suction Pressure (psig)</th>\n",
       "      <th>Suction Temperature (F)</th>\n",
       "      <th>Total Flow (gpm)</th>\n",
       "      <th>Speed (rpm)</th>\n",
       "      <th>By-pass Valve Position (%)</th>\n",
       "      <th>Discharge Pressure (psig)</th>\n",
       "      <th>Discharge Temperature (F)</th>\n",
       "      <th>Run Status</th>\n",
       "    </tr>\n",
       "  </thead>\n",
       "  <tbody>\n",
       "    <tr>\n",
       "      <th>count</th>\n",
       "      <td>296450.000000</td>\n",
       "      <td>296450.000000</td>\n",
       "      <td>296450.000000</td>\n",
       "      <td>296450.000000</td>\n",
       "      <td>296450.000000</td>\n",
       "      <td>296450.000000</td>\n",
       "      <td>296450.000000</td>\n",
       "      <td>0.0</td>\n",
       "    </tr>\n",
       "    <tr>\n",
       "      <th>mean</th>\n",
       "      <td>590.541350</td>\n",
       "      <td>-231.564934</td>\n",
       "      <td>8119.917777</td>\n",
       "      <td>2955.416695</td>\n",
       "      <td>2.005667</td>\n",
       "      <td>186.991087</td>\n",
       "      <td>-229.764934</td>\n",
       "      <td>NaN</td>\n",
       "    </tr>\n",
       "    <tr>\n",
       "      <th>std</th>\n",
       "      <td>23.216552</td>\n",
       "      <td>3.574107</td>\n",
       "      <td>398.049531</td>\n",
       "      <td>54.201467</td>\n",
       "      <td>2.488568</td>\n",
       "      <td>56.205183</td>\n",
       "      <td>3.574136</td>\n",
       "      <td>NaN</td>\n",
       "    </tr>\n",
       "    <tr>\n",
       "      <th>min</th>\n",
       "      <td>552.420048</td>\n",
       "      <td>-238.594971</td>\n",
       "      <td>7056.004500</td>\n",
       "      <td>2835.750571</td>\n",
       "      <td>-0.200000</td>\n",
       "      <td>69.983885</td>\n",
       "      <td>-236.816223</td>\n",
       "      <td>NaN</td>\n",
       "    </tr>\n",
       "    <tr>\n",
       "      <th>25%</th>\n",
       "      <td>572.757269</td>\n",
       "      <td>-234.171427</td>\n",
       "      <td>7916.322054</td>\n",
       "      <td>2906.336126</td>\n",
       "      <td>0.000000</td>\n",
       "      <td>143.468467</td>\n",
       "      <td>-232.371760</td>\n",
       "      <td>NaN</td>\n",
       "    </tr>\n",
       "    <tr>\n",
       "      <th>50%</th>\n",
       "      <td>586.491792</td>\n",
       "      <td>-230.922352</td>\n",
       "      <td>8144.161813</td>\n",
       "      <td>2961.788792</td>\n",
       "      <td>0.000000</td>\n",
       "      <td>183.270451</td>\n",
       "      <td>-229.122946</td>\n",
       "      <td>NaN</td>\n",
       "    </tr>\n",
       "    <tr>\n",
       "      <th>75%</th>\n",
       "      <td>605.986608</td>\n",
       "      <td>-229.585168</td>\n",
       "      <td>8388.610374</td>\n",
       "      <td>3000.863611</td>\n",
       "      <td>4.000000</td>\n",
       "      <td>223.580205</td>\n",
       "      <td>-227.785796</td>\n",
       "      <td>NaN</td>\n",
       "    </tr>\n",
       "    <tr>\n",
       "      <th>max</th>\n",
       "      <td>649.217417</td>\n",
       "      <td>-223.440125</td>\n",
       "      <td>8975.986378</td>\n",
       "      <td>3090.367995</td>\n",
       "      <td>8.026667</td>\n",
       "      <td>324.411576</td>\n",
       "      <td>-221.617102</td>\n",
       "      <td>NaN</td>\n",
       "    </tr>\n",
       "  </tbody>\n",
       "</table>\n",
       "</div>"
      ],
      "text/plain": [
       "       Suction Pressure (psig)  Suction Temperature (F)  Total Flow (gpm)  \\\n",
       "count            296450.000000            296450.000000     296450.000000   \n",
       "mean                590.541350              -231.564934       8119.917777   \n",
       "std                  23.216552                 3.574107        398.049531   \n",
       "min                 552.420048              -238.594971       7056.004500   \n",
       "25%                 572.757269              -234.171427       7916.322054   \n",
       "50%                 586.491792              -230.922352       8144.161813   \n",
       "75%                 605.986608              -229.585168       8388.610374   \n",
       "max                 649.217417              -223.440125       8975.986378   \n",
       "\n",
       "         Speed (rpm)  By-pass Valve Position (%)  Discharge Pressure (psig)  \\\n",
       "count  296450.000000               296450.000000              296450.000000   \n",
       "mean     2955.416695                    2.005667                 186.991087   \n",
       "std        54.201467                    2.488568                  56.205183   \n",
       "min      2835.750571                   -0.200000                  69.983885   \n",
       "25%      2906.336126                    0.000000                 143.468467   \n",
       "50%      2961.788792                    0.000000                 183.270451   \n",
       "75%      3000.863611                    4.000000                 223.580205   \n",
       "max      3090.367995                    8.026667                 324.411576   \n",
       "\n",
       "       Discharge Temperature (F)  Run Status  \n",
       "count              296450.000000         0.0  \n",
       "mean                 -229.764934         NaN  \n",
       "std                     3.574136         NaN  \n",
       "min                  -236.816223         NaN  \n",
       "25%                  -232.371760         NaN  \n",
       "50%                  -229.122946         NaN  \n",
       "75%                  -227.785796         NaN  \n",
       "max                  -221.617102         NaN  "
      ]
     },
     "execution_count": 3,
     "metadata": {},
     "output_type": "execute_result"
    }
   ],
   "source": [
    "data.describe()\n"
   ]
  },
  {
   "cell_type": "code",
   "execution_count": 4,
   "metadata": {},
   "outputs": [
    {
     "data": {
      "text/plain": [
       "(296450, 9)"
      ]
     },
     "execution_count": 4,
     "metadata": {},
     "output_type": "execute_result"
    }
   ],
   "source": [
    "#shape of dataset\n",
    "data.shape"
   ]
  },
  {
   "cell_type": "code",
   "execution_count": 5,
   "metadata": {},
   "outputs": [
    {
     "data": {
      "text/html": [
       "<div>\n",
       "<style scoped>\n",
       "    .dataframe tbody tr th:only-of-type {\n",
       "        vertical-align: middle;\n",
       "    }\n",
       "\n",
       "    .dataframe tbody tr th {\n",
       "        vertical-align: top;\n",
       "    }\n",
       "\n",
       "    .dataframe thead th {\n",
       "        text-align: right;\n",
       "    }\n",
       "</style>\n",
       "<table border=\"1\" class=\"dataframe\">\n",
       "  <thead>\n",
       "    <tr style=\"text-align: right;\">\n",
       "      <th></th>\n",
       "      <th>Timestamp</th>\n",
       "      <th>Suction Pressure (psig)</th>\n",
       "      <th>Suction Temperature (F)</th>\n",
       "      <th>Total Flow (gpm)</th>\n",
       "      <th>Speed (rpm)</th>\n",
       "      <th>By-pass Valve Position (%)</th>\n",
       "      <th>Discharge Pressure (psig)</th>\n",
       "      <th>Discharge Temperature (F)</th>\n",
       "      <th>Run Status</th>\n",
       "    </tr>\n",
       "  </thead>\n",
       "  <tbody>\n",
       "    <tr>\n",
       "      <th>0</th>\n",
       "      <td>1/4/2020 21:20</td>\n",
       "      <td>596.100853</td>\n",
       "      <td>-229.436683</td>\n",
       "      <td>7925.800487</td>\n",
       "      <td>2999.411045</td>\n",
       "      <td>6.0</td>\n",
       "      <td>226.044931</td>\n",
       "      <td>-227.614448</td>\n",
       "      <td>NaN</td>\n",
       "    </tr>\n",
       "    <tr>\n",
       "      <th>1</th>\n",
       "      <td>1/4/2020 21:20</td>\n",
       "      <td>596.838217</td>\n",
       "      <td>-230.453708</td>\n",
       "      <td>8085.917724</td>\n",
       "      <td>2989.706617</td>\n",
       "      <td>6.0</td>\n",
       "      <td>217.150974</td>\n",
       "      <td>-228.668636</td>\n",
       "      <td>NaN</td>\n",
       "    </tr>\n",
       "    <tr>\n",
       "      <th>2</th>\n",
       "      <td>1/4/2020 21:20</td>\n",
       "      <td>596.468895</td>\n",
       "      <td>-229.545356</td>\n",
       "      <td>7902.175243</td>\n",
       "      <td>3006.331679</td>\n",
       "      <td>6.0</td>\n",
       "      <td>226.054086</td>\n",
       "      <td>-227.755324</td>\n",
       "      <td>NaN</td>\n",
       "    </tr>\n",
       "    <tr>\n",
       "      <th>3</th>\n",
       "      <td>1/4/2020 21:20</td>\n",
       "      <td>603.568271</td>\n",
       "      <td>-230.309438</td>\n",
       "      <td>7991.808959</td>\n",
       "      <td>3010.487486</td>\n",
       "      <td>6.0</td>\n",
       "      <td>226.016182</td>\n",
       "      <td>-228.489113</td>\n",
       "      <td>NaN</td>\n",
       "    </tr>\n",
       "    <tr>\n",
       "      <th>4</th>\n",
       "      <td>1/4/2020 21:21</td>\n",
       "      <td>595.407372</td>\n",
       "      <td>-229.767969</td>\n",
       "      <td>7871.560747</td>\n",
       "      <td>2986.665518</td>\n",
       "      <td>6.0</td>\n",
       "      <td>227.769383</td>\n",
       "      <td>-227.971795</td>\n",
       "      <td>NaN</td>\n",
       "    </tr>\n",
       "  </tbody>\n",
       "</table>\n",
       "</div>"
      ],
      "text/plain": [
       "        Timestamp  Suction Pressure (psig)  Suction Temperature (F)  \\\n",
       "0  1/4/2020 21:20               596.100853              -229.436683   \n",
       "1  1/4/2020 21:20               596.838217              -230.453708   \n",
       "2  1/4/2020 21:20               596.468895              -229.545356   \n",
       "3  1/4/2020 21:20               603.568271              -230.309438   \n",
       "4  1/4/2020 21:21               595.407372              -229.767969   \n",
       "\n",
       "   Total Flow (gpm)  Speed (rpm)  By-pass Valve Position (%)  \\\n",
       "0       7925.800487  2999.411045                         6.0   \n",
       "1       8085.917724  2989.706617                         6.0   \n",
       "2       7902.175243  3006.331679                         6.0   \n",
       "3       7991.808959  3010.487486                         6.0   \n",
       "4       7871.560747  2986.665518                         6.0   \n",
       "\n",
       "   Discharge Pressure (psig)  Discharge Temperature (F)  Run Status  \n",
       "0                 226.044931                -227.614448         NaN  \n",
       "1                 217.150974                -228.668636         NaN  \n",
       "2                 226.054086                -227.755324         NaN  \n",
       "3                 226.016182                -228.489113         NaN  \n",
       "4                 227.769383                -227.971795         NaN  "
      ]
     },
     "execution_count": 5,
     "metadata": {},
     "output_type": "execute_result"
    }
   ],
   "source": [
    "#Viewing top five dataset\n",
    "data.head()"
   ]
  },
  {
   "cell_type": "code",
   "execution_count": 6,
   "metadata": {},
   "outputs": [
    {
     "data": {
      "text/plain": [
       "Index(['Timestamp', 'Suction Pressure (psig)', 'Suction Temperature (F)',\n",
       "       'Total Flow (gpm)', 'Speed (rpm)', 'By-pass Valve Position (%)',\n",
       "       'Discharge Pressure (psig)', 'Discharge Temperature (F)', 'Run Status'],\n",
       "      dtype='object')"
      ]
     },
     "execution_count": 6,
     "metadata": {},
     "output_type": "execute_result"
    }
   ],
   "source": [
    "#Printing all columns of dataset\n",
    "data.columns"
   ]
  },
  {
   "cell_type": "code",
   "execution_count": 7,
   "metadata": {},
   "outputs": [],
   "source": [
    "#feature formation\n",
    "features=['Timestamp', 'Suction Pressure (psig)', 'Suction Temperature (F)',\n",
    "       'Total Flow (gpm)', 'Speed (rpm)', 'By-pass Valve Position (%)',\n",
    "        'Discharge Temperature (F)', 'Run Status']"
   ]
  },
  {
   "cell_type": "code",
   "execution_count": 8,
   "metadata": {},
   "outputs": [],
   "source": [
    "#defining features matrix X and prediction value y\n",
    "X=data[features]\n",
    "y=data['Discharge Pressure (psig)']"
   ]
  },
  {
   "cell_type": "code",
   "execution_count": 9,
   "metadata": {},
   "outputs": [
    {
     "name": "stderr",
     "output_type": "stream",
     "text": [
      "/opt/conda/lib/python3.6/site-packages/pandas/core/frame.py:4117: SettingWithCopyWarning: \n",
      "A value is trying to be set on a copy of a slice from a DataFrame\n",
      "\n",
      "See the caveats in the documentation: http://pandas.pydata.org/pandas-docs/stable/user_guide/indexing.html#returning-a-view-versus-a-copy\n",
      "  errors=errors,\n"
     ]
    }
   ],
   "source": [
    "#since the feature 'Timestamp' does not affect the Discharge Pressure prediction and therefore it can be drop\n",
    "X.drop(['Timestamp'],axis=1,inplace=True)\n",
    "#since the feature 'Run Status' is unavailable in dataset and therefore it can be drop\n",
    "X.drop(['Run Status'],axis=1,inplace=True)"
   ]
  },
  {
   "cell_type": "code",
   "execution_count": 10,
   "metadata": {},
   "outputs": [
    {
     "data": {
      "text/html": [
       "<div>\n",
       "<style scoped>\n",
       "    .dataframe tbody tr th:only-of-type {\n",
       "        vertical-align: middle;\n",
       "    }\n",
       "\n",
       "    .dataframe tbody tr th {\n",
       "        vertical-align: top;\n",
       "    }\n",
       "\n",
       "    .dataframe thead th {\n",
       "        text-align: right;\n",
       "    }\n",
       "</style>\n",
       "<table border=\"1\" class=\"dataframe\">\n",
       "  <thead>\n",
       "    <tr style=\"text-align: right;\">\n",
       "      <th></th>\n",
       "      <th>Suction Pressure (psig)</th>\n",
       "      <th>Suction Temperature (F)</th>\n",
       "      <th>Total Flow (gpm)</th>\n",
       "      <th>Speed (rpm)</th>\n",
       "      <th>By-pass Valve Position (%)</th>\n",
       "      <th>Discharge Temperature (F)</th>\n",
       "    </tr>\n",
       "  </thead>\n",
       "  <tbody>\n",
       "    <tr>\n",
       "      <th>0</th>\n",
       "      <td>596.100853</td>\n",
       "      <td>-229.436683</td>\n",
       "      <td>7925.800487</td>\n",
       "      <td>2999.411045</td>\n",
       "      <td>6.0</td>\n",
       "      <td>-227.614448</td>\n",
       "    </tr>\n",
       "    <tr>\n",
       "      <th>1</th>\n",
       "      <td>596.838217</td>\n",
       "      <td>-230.453708</td>\n",
       "      <td>8085.917724</td>\n",
       "      <td>2989.706617</td>\n",
       "      <td>6.0</td>\n",
       "      <td>-228.668636</td>\n",
       "    </tr>\n",
       "    <tr>\n",
       "      <th>2</th>\n",
       "      <td>596.468895</td>\n",
       "      <td>-229.545356</td>\n",
       "      <td>7902.175243</td>\n",
       "      <td>3006.331679</td>\n",
       "      <td>6.0</td>\n",
       "      <td>-227.755324</td>\n",
       "    </tr>\n",
       "    <tr>\n",
       "      <th>3</th>\n",
       "      <td>603.568271</td>\n",
       "      <td>-230.309438</td>\n",
       "      <td>7991.808959</td>\n",
       "      <td>3010.487486</td>\n",
       "      <td>6.0</td>\n",
       "      <td>-228.489113</td>\n",
       "    </tr>\n",
       "    <tr>\n",
       "      <th>4</th>\n",
       "      <td>595.407372</td>\n",
       "      <td>-229.767969</td>\n",
       "      <td>7871.560747</td>\n",
       "      <td>2986.665518</td>\n",
       "      <td>6.0</td>\n",
       "      <td>-227.971795</td>\n",
       "    </tr>\n",
       "  </tbody>\n",
       "</table>\n",
       "</div>"
      ],
      "text/plain": [
       "   Suction Pressure (psig)  Suction Temperature (F)  Total Flow (gpm)  \\\n",
       "0               596.100853              -229.436683       7925.800487   \n",
       "1               596.838217              -230.453708       8085.917724   \n",
       "2               596.468895              -229.545356       7902.175243   \n",
       "3               603.568271              -230.309438       7991.808959   \n",
       "4               595.407372              -229.767969       7871.560747   \n",
       "\n",
       "   Speed (rpm)  By-pass Valve Position (%)  Discharge Temperature (F)  \n",
       "0  2999.411045                         6.0                -227.614448  \n",
       "1  2989.706617                         6.0                -228.668636  \n",
       "2  3006.331679                         6.0                -227.755324  \n",
       "3  3010.487486                         6.0                -228.489113  \n",
       "4  2986.665518                         6.0                -227.971795  "
      ]
     },
     "execution_count": 10,
     "metadata": {},
     "output_type": "execute_result"
    }
   ],
   "source": [
    "X.head()"
   ]
  },
  {
   "cell_type": "code",
   "execution_count": 11,
   "metadata": {},
   "outputs": [
    {
     "data": {
      "text/plain": [
       "Suction Pressure (psig)       0\n",
       "Suction Temperature (F)       0\n",
       "Total Flow (gpm)              0\n",
       "Speed (rpm)                   0\n",
       "By-pass Valve Position (%)    0\n",
       "Discharge Temperature (F)     0\n",
       "dtype: int64"
      ]
     },
     "execution_count": 11,
     "metadata": {},
     "output_type": "execute_result"
    }
   ],
   "source": [
    "#checking if any missing data in our dataset\n",
    "X.isnull().sum()"
   ]
  },
  {
   "cell_type": "code",
   "execution_count": 12,
   "metadata": {},
   "outputs": [],
   "source": [
    "#Splitting dataset into the Training set and Test set\n",
    "from sklearn.model_selection import train_test_split\n",
    "X_train,X_test,y_train,y_test=train_test_split(X,y,test_size=0.2,random_state=0)"
   ]
  },
  {
   "cell_type": "code",
   "execution_count": 13,
   "metadata": {},
   "outputs": [],
   "source": [
    "#Feature Scaling for better accuracy of model by making all features values on same scale\n",
    "from sklearn.preprocessing import StandardScaler\n",
    "sc=StandardScaler()\n",
    "X_train=sc.fit_transform(X_train)\n",
    "X_test=sc.transform(X_test)"
   ]
  },
  {
   "cell_type": "markdown",
   "metadata": {},
   "source": [
    "**DATA VISUALISATION**"
   ]
  },
  {
   "cell_type": "code",
   "execution_count": 14,
   "metadata": {},
   "outputs": [
    {
     "data": {
      "image/png": "[encoded data removed]",
      "text/plain": [
       "<Figure size 1800x576 with 6 Axes>"
      ]
     },
     "metadata": {
      "needs_background": "light"
     },
     "output_type": "display_data"
    }
   ],
   "source": [
    "#visualisation of data\n",
    "plt.figure(1 , figsize = (25 , 8))\n",
    "n = 0 \n",
    "for x in ['Suction Pressure (psig)', 'Suction Temperature (F)',\n",
    "       'Total Flow (gpm)', 'Speed (rpm)', 'By-pass Valve Position (%)',\n",
    "        'Discharge Temperature (F)']:\n",
    "    n += 1\n",
    "    plt.subplot(1 , 6 , n)\n",
    "    plt.subplots_adjust(hspace =1 , wspace = 1)\n",
    "    sns.distplot(data[x] , bins = 20)\n",
    "    plt.title('Distplot of {}'.format(x))\n",
    "plt.show()"
   ]
  },
  {
   "cell_type": "code",
   "execution_count": 15,
   "metadata": {},
   "outputs": [
    {
     "data": {
      "text/plain": [
       "RandomForestRegressor(bootstrap=True, criterion='mse', max_depth=None,\n",
       "                      max_features='auto', max_leaf_nodes=None,\n",
       "                      min_impurity_decrease=0.0, min_impurity_split=None,\n",
       "                      min_samples_leaf=1, min_samples_split=2,\n",
       "                      min_weight_fraction_leaf=0.0, n_estimators=20,\n",
       "                      n_jobs=None, oob_score=False, random_state=None,\n",
       "                      verbose=0, warm_start=False)"
      ]
     },
     "execution_count": 15,
     "metadata": {},
     "output_type": "execute_result"
    }
   ],
   "source": [
    "#Fitting training dataset on RandomForestRegressor model\n",
    "from sklearn.ensemble import RandomForestRegressor\n",
    "model=RandomForestRegressor(n_estimators=20)\n",
    "model.fit(X_train,y_train)"
   ]
  },
  {
   "cell_type": "code",
   "execution_count": 16,
   "metadata": {},
   "outputs": [],
   "source": [
    "#prediction on training and test dataset\n",
    "y_pred_train=model.predict(X_train)\n",
    "y_pred_test=model.predict(X_test)\n"
   ]
  },
  {
   "cell_type": "markdown",
   "metadata": {},
   "source": [
    "**MEASURING ACCURACY OF MODEL USING RMSE VALUE**"
   ]
  },
  {
   "cell_type": "code",
   "execution_count": 17,
   "metadata": {},
   "outputs": [
    {
     "name": "stdout",
     "output_type": "stream",
     "text": [
      "0.5406622956869749\n"
     ]
    }
   ],
   "source": [
    "#checking accuracy of model using rmse value on training dataset\n",
    "from sklearn.metrics import mean_squared_error\n",
    "from math import sqrt\n",
    "\n",
    "rms = sqrt(mean_squared_error(y_train, y_pred_train))\n",
    "print(rms)"
   ]
  },
  {
   "cell_type": "code",
   "execution_count": 18,
   "metadata": {},
   "outputs": [
    {
     "name": "stdout",
     "output_type": "stream",
     "text": [
      "1.371708162533256\n"
     ]
    }
   ],
   "source": [
    "#checking accuracy of model using rmse value on test dataset\n",
    "rms = sqrt(mean_squared_error(y_test, y_pred_test))\n",
    "print(rms)"
   ]
  },
  {
   "cell_type": "markdown",
   "metadata": {},
   "source": [
    "**rmse value can be minimizes by increasing n_estimators value**"
   ]
  },
  {
   "cell_type": "markdown",
   "metadata": {},
   "source": [
    "**THANK YOU**"
   ]
  }
 ],
 "metadata": {
  "kernelspec": {
   "display_name": "Python 3",
   "language": "python",
   "name": "python3"
  },
  "language_info": {
   "codemirror_mode": {
    "name": "ipython",
    "version": 3
   },
   "file_extension": ".py",
   "mimetype": "text/x-python",
   "name": "python",
   "nbconvert_exporter": "python",
   "pygments_lexer": "ipython3",
   "version": "3.6.6"
  }
 },
 "nbformat": 4,
 "nbformat_minor": 1
}
